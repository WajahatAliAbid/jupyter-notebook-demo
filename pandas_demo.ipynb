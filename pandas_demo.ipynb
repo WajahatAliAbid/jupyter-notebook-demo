{
 "cells": [
  {
   "cell_type": "markdown",
   "metadata": {},
   "source": [
    "# Loading data into Pandas"
   ]
  },
  {
   "cell_type": "code",
   "execution_count": 52,
   "metadata": {
    "scrolled": true
   },
   "outputs": [],
   "source": [
    "import pandas as pd\n",
    "\n",
    "pokemon = pd.read_csv('pokemon_data.csv')\n",
    "# print(pokemon.head(4)) loads first 4 rows\n",
    "\n"
   ]
  },
  {
   "cell_type": "markdown",
   "metadata": {},
   "source": [
    "## Reading data in Pandas"
   ]
  },
  {
   "cell_type": "code",
   "execution_count": 70,
   "metadata": {},
   "outputs": [
    {
     "name": "stdout",
     "output_type": "stream",
     "text": [
      "   Number                       Name Type1   Type2  Total  HP  Attack  \\\n",
      "4       4                 Charmander  Fire     NaN    309  39      52   \n",
      "5       5                 Charmeleon  Fire     NaN    405  58      64   \n",
      "6       6                  Charizard  Fire  Flying    534  78      84   \n",
      "7       6  CharizardMega Charizard X  Fire  Dragon    634  78     130   \n",
      "8       6  CharizardMega Charizard Y  Fire  Flying    634  78     104   \n",
      "\n",
      "   Defense  SpecialAtk  SpecialDef  Speed  Generation  Legendary  \n",
      "4       43          60          50     65           1      False  \n",
      "5       58          80          65     80           1      False  \n",
      "6       78         109          85    100           1      False  \n",
      "7      111         130          85    100           1      False  \n",
      "8       78         159         115    100           1      False  \n"
     ]
    }
   ],
   "source": [
    "# Read headers\n",
    "# print(pokemon.columns)\n",
    "\n",
    "# Read each column\n",
    "# print(pokemon[['Name','Type1','Type2']][0:9])\n",
    "\n",
    "# Read each row\n",
    "# print(pokemon.iloc[1])\n",
    "\n",
    "# read a specific location\n",
    "# print(pokemon.iloc[2,1])\n",
    "\n",
    "# Only get first 5 fire type pokemon\n",
    "print(pokemon.loc[pokemon['Type1'] == \"Fire\"][0:5])\n"
   ]
  },
  {
   "cell_type": "markdown",
   "metadata": {},
   "source": [
    "## Sorting/ Describing data"
   ]
  },
  {
   "cell_type": "code",
   "execution_count": 69,
   "metadata": {},
   "outputs": [],
   "source": [
    "# describes data\n",
    "# pokemon.describe()\n",
    "\n",
    "# pokemon.sort_values('Name',ascending=False)\n",
    "# pokemon.sort_values(['Type1','HP'], ascending=[True,False])"
   ]
  },
  {
   "cell_type": "markdown",
   "metadata": {},
   "source": [
    "## Making changes to data"
   ]
  },
  {
   "cell_type": "code",
   "execution_count": 90,
   "metadata": {},
   "outputs": [
    {
     "data": {
      "text/html": [
       "<div>\n",
       "<style scoped>\n",
       "    .dataframe tbody tr th:only-of-type {\n",
       "        vertical-align: middle;\n",
       "    }\n",
       "\n",
       "    .dataframe tbody tr th {\n",
       "        vertical-align: top;\n",
       "    }\n",
       "\n",
       "    .dataframe thead th {\n",
       "        text-align: right;\n",
       "    }\n",
       "</style>\n",
       "<table border=\"1\" class=\"dataframe\">\n",
       "  <thead>\n",
       "    <tr style=\"text-align: right;\">\n",
       "      <th></th>\n",
       "      <th>Number</th>\n",
       "      <th>Name</th>\n",
       "      <th>Type1</th>\n",
       "      <th>Type2</th>\n",
       "      <th>Legendary</th>\n",
       "      <th>Total</th>\n",
       "      <th>HP</th>\n",
       "      <th>Attack</th>\n",
       "      <th>Defense</th>\n",
       "      <th>SpecialAtk</th>\n",
       "      <th>SpecialDef</th>\n",
       "      <th>Speed</th>\n",
       "      <th>Generation</th>\n",
       "    </tr>\n",
       "  </thead>\n",
       "  <tbody>\n",
       "    <tr>\n",
       "      <th>0</th>\n",
       "      <td>1</td>\n",
       "      <td>Bulbasaur</td>\n",
       "      <td>Grass</td>\n",
       "      <td>Poison</td>\n",
       "      <td>False</td>\n",
       "      <td>591</td>\n",
       "      <td>45</td>\n",
       "      <td>49</td>\n",
       "      <td>49</td>\n",
       "      <td>65</td>\n",
       "      <td>65</td>\n",
       "      <td>45</td>\n",
       "      <td>1</td>\n",
       "    </tr>\n",
       "    <tr>\n",
       "      <th>1</th>\n",
       "      <td>2</td>\n",
       "      <td>Ivysaur</td>\n",
       "      <td>Grass</td>\n",
       "      <td>Poison</td>\n",
       "      <td>False</td>\n",
       "      <td>750</td>\n",
       "      <td>60</td>\n",
       "      <td>62</td>\n",
       "      <td>63</td>\n",
       "      <td>80</td>\n",
       "      <td>80</td>\n",
       "      <td>60</td>\n",
       "      <td>1</td>\n",
       "    </tr>\n",
       "    <tr>\n",
       "      <th>2</th>\n",
       "      <td>3</td>\n",
       "      <td>Venusaur</td>\n",
       "      <td>Grass</td>\n",
       "      <td>Poison</td>\n",
       "      <td>False</td>\n",
       "      <td>970</td>\n",
       "      <td>80</td>\n",
       "      <td>82</td>\n",
       "      <td>83</td>\n",
       "      <td>100</td>\n",
       "      <td>100</td>\n",
       "      <td>80</td>\n",
       "      <td>1</td>\n",
       "    </tr>\n",
       "    <tr>\n",
       "      <th>3</th>\n",
       "      <td>3</td>\n",
       "      <td>VenusaurMega Venusaur</td>\n",
       "      <td>Grass</td>\n",
       "      <td>Poison</td>\n",
       "      <td>False</td>\n",
       "      <td>1170</td>\n",
       "      <td>80</td>\n",
       "      <td>100</td>\n",
       "      <td>123</td>\n",
       "      <td>122</td>\n",
       "      <td>120</td>\n",
       "      <td>80</td>\n",
       "      <td>1</td>\n",
       "    </tr>\n",
       "  </tbody>\n",
       "</table>\n",
       "</div>"
      ],
      "text/plain": [
       "   Number                   Name  Type1   Type2  Legendary  Total  HP  Attack  \\\n",
       "0       1              Bulbasaur  Grass  Poison      False    591  45      49   \n",
       "1       2                Ivysaur  Grass  Poison      False    750  60      62   \n",
       "2       3               Venusaur  Grass  Poison      False    970  80      82   \n",
       "3       3  VenusaurMega Venusaur  Grass  Poison      False   1170  80     100   \n",
       "\n",
       "   Defense  SpecialAtk  SpecialDef  Speed  Generation  \n",
       "0       49          65          65     45           1  \n",
       "1       63          80          80     60           1  \n",
       "2       83         100         100     80           1  \n",
       "3      123         122         120     80           1  "
      ]
     },
     "execution_count": 90,
     "metadata": {},
     "output_type": "execute_result"
    }
   ],
   "source": [
    "# pokemon.head(5)\n",
    "# pokemon['Total'] = pokemon['HP']+pokemon['Attack']+pokemon['Defense']+pokemon['SpecialAtk']+pokemon['SpecialDef']+ pokemon['Speed']\n",
    "# pokemon = pokemon.drop(columns = ['Total'])\n",
    "\n",
    "pokemon['Total'] = pokemon.iloc[:,4:10].sum(axis=1)\n",
    "\n",
    "cols = list(pokemon.columns)\n",
    "modified_pokemon = pokemon[cols[0:4]+ [cols[-1]] + cols[4:12]]\n",
    "modified_pokemon.head(4)\n"
   ]
  },
  {
   "cell_type": "markdown",
   "metadata": {},
   "source": [
    "## Saving updated file"
   ]
  },
  {
   "cell_type": "code",
   "execution_count": null,
   "metadata": {},
   "outputs": [],
   "source": [
    "df.to_csv(\"updated_pokemon_data.csv\")"
   ]
  }
 ],
 "metadata": {
  "kernelspec": {
   "display_name": "Python 3",
   "language": "python",
   "name": "python3"
  },
  "language_info": {
   "codemirror_mode": {
    "name": "ipython",
    "version": 3
   },
   "file_extension": ".py",
   "mimetype": "text/x-python",
   "name": "python",
   "nbconvert_exporter": "python",
   "pygments_lexer": "ipython3",
   "version": "3.7.3"
  }
 },
 "nbformat": 4,
 "nbformat_minor": 2
}
